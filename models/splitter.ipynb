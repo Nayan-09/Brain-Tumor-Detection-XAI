{
 "cells": [
  {
   "cell_type": "code",
   "execution_count": 1,
   "metadata": {},
   "outputs": [],
   "source": [
    "import pickle\n",
    "\n",
    "with open(\"ModelPretrained.pkl\", \"rb\") as f:\n",
    "    data = f.read()\n",
    "\n",
    "chunk_size = 25 * 1024 * 1024  # 50MB\n",
    "for i in range(0, len(data), chunk_size):\n",
    "    with open(f\"model_part{i//chunk_size}.pkl\", \"wb\") as f:\n",
    "        f.write(data[i:i+chunk_size])\n",
    "        \n"
   ]
  },
  {
   "cell_type": "code",
   "execution_count": null,
   "metadata": {},
   "outputs": [],
   "source": [
    "with open(\"model.pkl\", \"wb\") as f:\n",
    "    for i in range(6):\n",
    "        with open(f\"model_part{i}.pkl\", \"rb\") as part:\n",
    "            f.write(part.read())"
   ]
  }
 ],
 "metadata": {
  "kernelspec": {
   "display_name": "Python 3",
   "language": "python",
   "name": "python3"
  },
  "language_info": {
   "codemirror_mode": {
    "name": "ipython",
    "version": 3
   },
   "file_extension": ".py",
   "mimetype": "text/x-python",
   "name": "python",
   "nbconvert_exporter": "python",
   "pygments_lexer": "ipython3",
   "version": "3.11.3"
  }
 },
 "nbformat": 4,
 "nbformat_minor": 2
}
